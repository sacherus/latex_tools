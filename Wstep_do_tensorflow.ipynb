{
  "nbformat": 4,
  "nbformat_minor": 0,
  "metadata": {
    "colab": {
      "name": "Wstep do tensorflow",
      "version": "0.3.2",
      "provenance": [],
      "collapsed_sections": [],
      "include_colab_link": true
    },
    "kernelspec": {
      "name": "python3",
      "display_name": "Python 3"
    },
    "accelerator": "GPU"
  },
  "cells": [
    {
      "cell_type": "markdown",
      "metadata": {
        "id": "view-in-github",
        "colab_type": "text"
      },
      "source": [
        "<a href=\"https://colab.research.google.com/github/sacherus/latex_tools/blob/master/Wstep_do_tensorflow.ipynb\" target=\"_parent\"><img src=\"https://colab.research.google.com/assets/colab-badge.svg\" alt=\"Open In Colab\"/></a>"
      ]
    },
    {
      "metadata": {
        "id": "qic-ui1CoF7L",
        "colab_type": "code",
        "colab": {}
      },
      "cell_type": "code",
      "source": [
        "# Just some imports\n",
        "from tensorflow.examples.tutorials.mnist import input_data\n",
        "import tensorflow as tf\n",
        "import random\n",
        "import numpy as np\n",
        "import matplotlib.pyplot as plt\n",
        "%matplotlib inline"
      ],
      "execution_count": 0,
      "outputs": []
    },
    {
      "metadata": {
        "id": "XdRUB5WKquE3",
        "colab_type": "text"
      },
      "cell_type": "markdown",
      "source": [
        "# MNIST dataset"
      ]
    },
    {
      "metadata": {
        "id": "r_1ACI7mr74H",
        "colab_type": "text"
      },
      "cell_type": "markdown",
      "source": [
        "MNIST is a large database of handwritten digits that is commonly used for training various image processing systems.\n",
        "\n",
        "The MNIST database consists of 70000 grayscale digits, where each digit is an image with a size of 28x28 pixels.\n",
        "\n",
        "The datased is splitted into three subsets:\n",
        "\n",
        "\n",
        "1. Train set -- 55k images\n",
        "2. Test set -- 10k images\n",
        "3. Validation set -- 5k images\n",
        "\n",
        "\n",
        "TensorFlow package has already built-in functions to deal with the MNIST dataset. Below one can find how to use it.\n"
      ]
    },
    {
      "metadata": {
        "id": "r8ULK8gSrLxc",
        "colab_type": "code",
        "colab": {}
      },
      "cell_type": "code",
      "source": [
        "# Function for plotting the MNIST images\n",
        "def plot(image):\n",
        "    plt.axis('off')\n",
        "    plt.imshow(image.reshape(28,28), cmap='gray')\n",
        "    plt.show()"
      ],
      "execution_count": 0,
      "outputs": []
    },
    {
      "metadata": {
        "id": "g816Ub6ZpCCI",
        "colab_type": "code",
        "outputId": "b78d80f9-8de5-4372-8315-ee3be3ede7ac",
        "colab": {
          "base_uri": "https://localhost:8080/",
          "height": 530
        }
      },
      "cell_type": "code",
      "source": [
        "# Import data\n",
        "mnist = input_data.read_data_sets(\"MNIST_data/\", one_hot=True)"
      ],
      "execution_count": 0,
      "outputs": [
        {
          "output_type": "stream",
          "text": [
            "WARNING:tensorflow:From <ipython-input-3-a839aeb82f4b>:1: read_data_sets (from tensorflow.contrib.learn.python.learn.datasets.mnist) is deprecated and will be removed in a future version.\n",
            "Instructions for updating:\n",
            "Please use alternatives such as official/mnist/dataset.py from tensorflow/models.\n",
            "WARNING:tensorflow:From /usr/local/lib/python3.6/dist-packages/tensorflow/contrib/learn/python/learn/datasets/mnist.py:260: maybe_download (from tensorflow.contrib.learn.python.learn.datasets.base) is deprecated and will be removed in a future version.\n",
            "Instructions for updating:\n",
            "Please write your own downloading logic.\n",
            "WARNING:tensorflow:From /usr/local/lib/python3.6/dist-packages/tensorflow/contrib/learn/python/learn/datasets/base.py:252: _internal_retry.<locals>.wrap.<locals>.wrapped_fn (from tensorflow.contrib.learn.python.learn.datasets.base) is deprecated and will be removed in a future version.\n",
            "Instructions for updating:\n",
            "Please use urllib or similar directly.\n",
            "Successfully downloaded train-images-idx3-ubyte.gz 9912422 bytes.\n",
            "WARNING:tensorflow:From /usr/local/lib/python3.6/dist-packages/tensorflow/contrib/learn/python/learn/datasets/mnist.py:262: extract_images (from tensorflow.contrib.learn.python.learn.datasets.mnist) is deprecated and will be removed in a future version.\n",
            "Instructions for updating:\n",
            "Please use tf.data to implement this functionality.\n",
            "Extracting MNIST_data/train-images-idx3-ubyte.gz\n",
            "Successfully downloaded train-labels-idx1-ubyte.gz 28881 bytes.\n",
            "WARNING:tensorflow:From /usr/local/lib/python3.6/dist-packages/tensorflow/contrib/learn/python/learn/datasets/mnist.py:267: extract_labels (from tensorflow.contrib.learn.python.learn.datasets.mnist) is deprecated and will be removed in a future version.\n",
            "Instructions for updating:\n",
            "Please use tf.data to implement this functionality.\n",
            "Extracting MNIST_data/train-labels-idx1-ubyte.gz\n",
            "WARNING:tensorflow:From /usr/local/lib/python3.6/dist-packages/tensorflow/contrib/learn/python/learn/datasets/mnist.py:110: dense_to_one_hot (from tensorflow.contrib.learn.python.learn.datasets.mnist) is deprecated and will be removed in a future version.\n",
            "Instructions for updating:\n",
            "Please use tf.one_hot on tensors.\n",
            "Successfully downloaded t10k-images-idx3-ubyte.gz 1648877 bytes.\n",
            "Extracting MNIST_data/t10k-images-idx3-ubyte.gz\n",
            "Successfully downloaded t10k-labels-idx1-ubyte.gz 4542 bytes.\n",
            "Extracting MNIST_data/t10k-labels-idx1-ubyte.gz\n",
            "WARNING:tensorflow:From /usr/local/lib/python3.6/dist-packages/tensorflow/contrib/learn/python/learn/datasets/mnist.py:290: DataSet.__init__ (from tensorflow.contrib.learn.python.learn.datasets.mnist) is deprecated and will be removed in a future version.\n",
            "Instructions for updating:\n",
            "Please use alternatives such as official/mnist/dataset.py from tensorflow/models.\n"
          ],
          "name": "stdout"
        }
      ]
    },
    {
      "metadata": {
        "id": "Q2b_1O7awdZm",
        "colab_type": "text"
      },
      "cell_type": "markdown",
      "source": [
        "Now we can easily deal with the MNIST data, by using:\n",
        "\n",
        "\n",
        "1. mnist.train.images\n",
        "2. mnist.test.images\n",
        "3. mnist.validation.images"
      ]
    },
    {
      "metadata": {
        "id": "-M8pQvH5rO7z",
        "colab_type": "code",
        "outputId": "26ad77d7-8741-43ea-f4dc-2b09d0e456f3",
        "colab": {
          "base_uri": "https://localhost:8080/",
          "height": 153
        }
      },
      "cell_type": "code",
      "source": [
        "# Print the shapes of images from each subset\n",
        "print (\"IMAGES:\")\n",
        "print (mnist.train.images.shape)\n",
        "print (mnist.test.images.shape)\n",
        "print (mnist.validation.images.shape)\n",
        "\n",
        "# Print the shapes of labels from each subset\n",
        "print (\"LABELS:\")\n",
        "print (mnist.train.labels.shape)\n",
        "print (mnist.test.labels.shape)\n",
        "print (mnist.validation.labels.shape)"
      ],
      "execution_count": 0,
      "outputs": [
        {
          "output_type": "stream",
          "text": [
            "IMAGES:\n",
            "(55000, 784)\n",
            "(10000, 784)\n",
            "(5000, 784)\n",
            "LABELS:\n",
            "(55000, 10)\n",
            "(10000, 10)\n",
            "(5000, 10)\n"
          ],
          "name": "stdout"
        }
      ]
    },
    {
      "metadata": {
        "id": "dolBLdWcWmqG",
        "colab_type": "text"
      },
      "cell_type": "markdown",
      "source": [
        "As we can see, every image is now a 784 dimensional vector, as by default it is reshaped from the matrix of a size 28x28 pixels.\n",
        "\n",
        "Also we see that labels are 10 dimensional vectors, what is caused by the fact that they are in one-hot-encoding form."
      ]
    },
    {
      "metadata": {
        "id": "ZeUmb24leShM",
        "colab_type": "code",
        "outputId": "7d849826-572a-4cb0-c517-7cf27be8b58a",
        "colab": {
          "base_uri": "https://localhost:8080/",
          "height": 2686
        }
      },
      "cell_type": "code",
      "source": [
        "# Print the vector of sample training image\n",
        "mnist.train.images[0]"
      ],
      "execution_count": 0,
      "outputs": [
        {
          "output_type": "execute_result",
          "data": {
            "text/plain": [
              "array([0.        , 0.        , 0.        , 0.        , 0.        ,\n",
              "       0.        , 0.        , 0.        , 0.        , 0.        ,\n",
              "       0.        , 0.        , 0.        , 0.        , 0.        ,\n",
              "       0.        , 0.        , 0.        , 0.        , 0.        ,\n",
              "       0.        , 0.        , 0.        , 0.        , 0.        ,\n",
              "       0.        , 0.        , 0.        , 0.        , 0.        ,\n",
              "       0.        , 0.        , 0.        , 0.        , 0.        ,\n",
              "       0.        , 0.        , 0.        , 0.        , 0.        ,\n",
              "       0.        , 0.        , 0.        , 0.        , 0.        ,\n",
              "       0.        , 0.        , 0.        , 0.        , 0.        ,\n",
              "       0.        , 0.        , 0.        , 0.        , 0.        ,\n",
              "       0.        , 0.        , 0.        , 0.        , 0.        ,\n",
              "       0.        , 0.        , 0.        , 0.        , 0.        ,\n",
              "       0.        , 0.        , 0.        , 0.        , 0.        ,\n",
              "       0.        , 0.        , 0.        , 0.        , 0.        ,\n",
              "       0.        , 0.        , 0.        , 0.        , 0.        ,\n",
              "       0.        , 0.        , 0.        , 0.        , 0.        ,\n",
              "       0.        , 0.        , 0.        , 0.        , 0.        ,\n",
              "       0.        , 0.        , 0.        , 0.        , 0.        ,\n",
              "       0.        , 0.        , 0.        , 0.        , 0.        ,\n",
              "       0.        , 0.        , 0.        , 0.        , 0.        ,\n",
              "       0.        , 0.        , 0.        , 0.        , 0.        ,\n",
              "       0.        , 0.        , 0.        , 0.        , 0.        ,\n",
              "       0.        , 0.        , 0.        , 0.        , 0.        ,\n",
              "       0.        , 0.        , 0.        , 0.        , 0.        ,\n",
              "       0.        , 0.        , 0.        , 0.        , 0.        ,\n",
              "       0.        , 0.        , 0.        , 0.        , 0.        ,\n",
              "       0.        , 0.        , 0.        , 0.        , 0.        ,\n",
              "       0.        , 0.        , 0.        , 0.        , 0.        ,\n",
              "       0.        , 0.        , 0.        , 0.        , 0.        ,\n",
              "       0.        , 0.        , 0.        , 0.        , 0.        ,\n",
              "       0.        , 0.        , 0.        , 0.        , 0.        ,\n",
              "       0.        , 0.        , 0.        , 0.        , 0.        ,\n",
              "       0.        , 0.        , 0.        , 0.        , 0.        ,\n",
              "       0.        , 0.        , 0.        , 0.        , 0.        ,\n",
              "       0.        , 0.        , 0.        , 0.        , 0.        ,\n",
              "       0.        , 0.        , 0.        , 0.        , 0.        ,\n",
              "       0.        , 0.        , 0.        , 0.        , 0.        ,\n",
              "       0.        , 0.        , 0.        , 0.        , 0.        ,\n",
              "       0.        , 0.        , 0.        , 0.        , 0.        ,\n",
              "       0.        , 0.        , 0.        , 0.        , 0.        ,\n",
              "       0.        , 0.        , 0.3803922 , 0.37647063, 0.3019608 ,\n",
              "       0.46274513, 0.2392157 , 0.        , 0.        , 0.        ,\n",
              "       0.        , 0.        , 0.        , 0.        , 0.        ,\n",
              "       0.        , 0.        , 0.        , 0.        , 0.        ,\n",
              "       0.        , 0.        , 0.3529412 , 0.5411765 , 0.9215687 ,\n",
              "       0.9215687 , 0.9215687 , 0.9215687 , 0.9215687 , 0.9215687 ,\n",
              "       0.9843138 , 0.9843138 , 0.9725491 , 0.9960785 , 0.9607844 ,\n",
              "       0.9215687 , 0.74509805, 0.08235294, 0.        , 0.        ,\n",
              "       0.        , 0.        , 0.        , 0.        , 0.        ,\n",
              "       0.        , 0.        , 0.        , 0.        , 0.54901963,\n",
              "       0.9843138 , 0.9960785 , 0.9960785 , 0.9960785 , 0.9960785 ,\n",
              "       0.9960785 , 0.9960785 , 0.9960785 , 0.9960785 , 0.9960785 ,\n",
              "       0.9960785 , 0.9960785 , 0.9960785 , 0.9960785 , 0.9960785 ,\n",
              "       0.7411765 , 0.09019608, 0.        , 0.        , 0.        ,\n",
              "       0.        , 0.        , 0.        , 0.        , 0.        ,\n",
              "       0.        , 0.        , 0.8862746 , 0.9960785 , 0.81568635,\n",
              "       0.7803922 , 0.7803922 , 0.7803922 , 0.7803922 , 0.54509807,\n",
              "       0.2392157 , 0.2392157 , 0.2392157 , 0.2392157 , 0.2392157 ,\n",
              "       0.5019608 , 0.8705883 , 0.9960785 , 0.9960785 , 0.7411765 ,\n",
              "       0.08235294, 0.        , 0.        , 0.        , 0.        ,\n",
              "       0.        , 0.        , 0.        , 0.        , 0.        ,\n",
              "       0.14901961, 0.32156864, 0.0509804 , 0.        , 0.        ,\n",
              "       0.        , 0.        , 0.        , 0.        , 0.        ,\n",
              "       0.        , 0.        , 0.        , 0.        , 0.13333334,\n",
              "       0.8352942 , 0.9960785 , 0.9960785 , 0.45098042, 0.        ,\n",
              "       0.        , 0.        , 0.        , 0.        , 0.        ,\n",
              "       0.        , 0.        , 0.        , 0.        , 0.        ,\n",
              "       0.        , 0.        , 0.        , 0.        , 0.        ,\n",
              "       0.        , 0.        , 0.        , 0.        , 0.        ,\n",
              "       0.        , 0.        , 0.        , 0.32941177, 0.9960785 ,\n",
              "       0.9960785 , 0.9176471 , 0.        , 0.        , 0.        ,\n",
              "       0.        , 0.        , 0.        , 0.        , 0.        ,\n",
              "       0.        , 0.        , 0.        , 0.        , 0.        ,\n",
              "       0.        , 0.        , 0.        , 0.        , 0.        ,\n",
              "       0.        , 0.        , 0.        , 0.        , 0.        ,\n",
              "       0.        , 0.32941177, 0.9960785 , 0.9960785 , 0.9176471 ,\n",
              "       0.        , 0.        , 0.        , 0.        , 0.        ,\n",
              "       0.        , 0.        , 0.        , 0.        , 0.        ,\n",
              "       0.        , 0.        , 0.        , 0.        , 0.        ,\n",
              "       0.        , 0.        , 0.        , 0.        , 0.        ,\n",
              "       0.        , 0.        , 0.        , 0.4156863 , 0.6156863 ,\n",
              "       0.9960785 , 0.9960785 , 0.95294124, 0.20000002, 0.        ,\n",
              "       0.        , 0.        , 0.        , 0.        , 0.        ,\n",
              "       0.        , 0.        , 0.        , 0.        , 0.        ,\n",
              "       0.        , 0.        , 0.        , 0.        , 0.        ,\n",
              "       0.        , 0.09803922, 0.45882356, 0.8941177 , 0.8941177 ,\n",
              "       0.8941177 , 0.9921569 , 0.9960785 , 0.9960785 , 0.9960785 ,\n",
              "       0.9960785 , 0.94117653, 0.        , 0.        , 0.        ,\n",
              "       0.        , 0.        , 0.        , 0.        , 0.        ,\n",
              "       0.        , 0.        , 0.        , 0.        , 0.        ,\n",
              "       0.        , 0.        , 0.26666668, 0.4666667 , 0.86274517,\n",
              "       0.9960785 , 0.9960785 , 0.9960785 , 0.9960785 , 0.9960785 ,\n",
              "       0.9960785 , 0.9960785 , 0.9960785 , 0.9960785 , 0.5568628 ,\n",
              "       0.        , 0.        , 0.        , 0.        , 0.        ,\n",
              "       0.        , 0.        , 0.        , 0.        , 0.        ,\n",
              "       0.        , 0.        , 0.        , 0.14509805, 0.73333335,\n",
              "       0.9921569 , 0.9960785 , 0.9960785 , 0.9960785 , 0.8745099 ,\n",
              "       0.8078432 , 0.8078432 , 0.29411766, 0.26666668, 0.8431373 ,\n",
              "       0.9960785 , 0.9960785 , 0.45882356, 0.        , 0.        ,\n",
              "       0.        , 0.        , 0.        , 0.        , 0.        ,\n",
              "       0.        , 0.        , 0.        , 0.        , 0.        ,\n",
              "       0.4431373 , 0.8588236 , 0.9960785 , 0.9490197 , 0.89019614,\n",
              "       0.45098042, 0.34901962, 0.12156864, 0.        , 0.        ,\n",
              "       0.        , 0.        , 0.7843138 , 0.9960785 , 0.9450981 ,\n",
              "       0.16078432, 0.        , 0.        , 0.        , 0.        ,\n",
              "       0.        , 0.        , 0.        , 0.        , 0.        ,\n",
              "       0.        , 0.        , 0.        , 0.6627451 , 0.9960785 ,\n",
              "       0.6901961 , 0.24313727, 0.        , 0.        , 0.        ,\n",
              "       0.        , 0.        , 0.        , 0.        , 0.18823531,\n",
              "       0.9058824 , 0.9960785 , 0.9176471 , 0.        , 0.        ,\n",
              "       0.        , 0.        , 0.        , 0.        , 0.        ,\n",
              "       0.        , 0.        , 0.        , 0.        , 0.        ,\n",
              "       0.        , 0.07058824, 0.48627454, 0.        , 0.        ,\n",
              "       0.        , 0.        , 0.        , 0.        , 0.        ,\n",
              "       0.        , 0.        , 0.32941177, 0.9960785 , 0.9960785 ,\n",
              "       0.6509804 , 0.        , 0.        , 0.        , 0.        ,\n",
              "       0.        , 0.        , 0.        , 0.        , 0.        ,\n",
              "       0.        , 0.        , 0.        , 0.        , 0.        ,\n",
              "       0.        , 0.        , 0.        , 0.        , 0.        ,\n",
              "       0.        , 0.        , 0.        , 0.        , 0.        ,\n",
              "       0.54509807, 0.9960785 , 0.9333334 , 0.22352943, 0.        ,\n",
              "       0.        , 0.        , 0.        , 0.        , 0.        ,\n",
              "       0.        , 0.        , 0.        , 0.        , 0.        ,\n",
              "       0.        , 0.        , 0.        , 0.        , 0.        ,\n",
              "       0.        , 0.        , 0.        , 0.        , 0.        ,\n",
              "       0.        , 0.        , 0.8235295 , 0.9803922 , 0.9960785 ,\n",
              "       0.65882355, 0.        , 0.        , 0.        , 0.        ,\n",
              "       0.        , 0.        , 0.        , 0.        , 0.        ,\n",
              "       0.        , 0.        , 0.        , 0.        , 0.        ,\n",
              "       0.        , 0.        , 0.        , 0.        , 0.        ,\n",
              "       0.        , 0.        , 0.        , 0.        , 0.        ,\n",
              "       0.9490197 , 0.9960785 , 0.93725497, 0.22352943, 0.        ,\n",
              "       0.        , 0.        , 0.        , 0.        , 0.        ,\n",
              "       0.        , 0.        , 0.        , 0.        , 0.        ,\n",
              "       0.        , 0.        , 0.        , 0.        , 0.        ,\n",
              "       0.        , 0.        , 0.        , 0.        , 0.        ,\n",
              "       0.        , 0.        , 0.34901962, 0.9843138 , 0.9450981 ,\n",
              "       0.3372549 , 0.        , 0.        , 0.        , 0.        ,\n",
              "       0.        , 0.        , 0.        , 0.        , 0.        ,\n",
              "       0.        , 0.        , 0.        , 0.        , 0.        ,\n",
              "       0.        , 0.        , 0.        , 0.        , 0.        ,\n",
              "       0.        , 0.        , 0.        , 0.        , 0.01960784,\n",
              "       0.8078432 , 0.96470594, 0.6156863 , 0.        , 0.        ,\n",
              "       0.        , 0.        , 0.        , 0.        , 0.        ,\n",
              "       0.        , 0.        , 0.        , 0.        , 0.        ,\n",
              "       0.        , 0.        , 0.        , 0.        , 0.        ,\n",
              "       0.        , 0.        , 0.        , 0.        , 0.        ,\n",
              "       0.        , 0.        , 0.01568628, 0.45882356, 0.27058825,\n",
              "       0.        , 0.        , 0.        , 0.        , 0.        ,\n",
              "       0.        , 0.        , 0.        , 0.        , 0.        ,\n",
              "       0.        , 0.        , 0.        , 0.        , 0.        ,\n",
              "       0.        , 0.        , 0.        , 0.        , 0.        ,\n",
              "       0.        , 0.        , 0.        , 0.        , 0.        ,\n",
              "       0.        , 0.        , 0.        , 0.        , 0.        ,\n",
              "       0.        , 0.        , 0.        , 0.        , 0.        ,\n",
              "       0.        , 0.        , 0.        , 0.        ], dtype=float32)"
            ]
          },
          "metadata": {
            "tags": []
          },
          "execution_count": 5
        }
      ]
    },
    {
      "metadata": {
        "id": "MhUzPQoawZcw",
        "colab_type": "code",
        "outputId": "412f0edd-842a-468f-801c-07f5890a14c6",
        "colab": {
          "base_uri": "https://localhost:8080/",
          "height": 265
        }
      },
      "cell_type": "code",
      "source": [
        "# Plot the sample training image\n",
        "plot(mnist.train.images[0])"
      ],
      "execution_count": 0,
      "outputs": [
        {
          "output_type": "display_data",
          "data": {
            "image/png": "[encoded data removed]",
            "text/plain": [
              "<Figure size 432x288 with 1 Axes>"
            ]
          },
          "metadata": {
            "tags": []
          }
        }
      ]
    },
    {
      "metadata": {
        "id": "fgn9mdisZHUM",
        "colab_type": "code",
        "outputId": "5d98534f-d78d-4526-fc46-d3076aa9a457",
        "colab": {
          "base_uri": "https://localhost:8080/",
          "height": 34
        }
      },
      "cell_type": "code",
      "source": [
        "# Print the label of sample training image\n",
        "mnist.train.labels[0]"
      ],
      "execution_count": 0,
      "outputs": [
        {
          "output_type": "execute_result",
          "data": {
            "text/plain": [
              "array([0., 0., 0., 0., 0., 0., 0., 1., 0., 0.])"
            ]
          },
          "metadata": {
            "tags": []
          },
          "execution_count": 7
        }
      ]
    },
    {
      "metadata": {
        "id": "-xv7TNoX2dd9",
        "colab_type": "text"
      },
      "cell_type": "markdown",
      "source": [
        "# Introduction to TensorFlow"
      ]
    },
    {
      "metadata": {
        "id": "5-263qjD9Wdi",
        "colab_type": "text"
      },
      "cell_type": "markdown",
      "source": [
        "TensorFlow is popular open-source deep learning library developed by Google.\n",
        "\n",
        "\\\\\n",
        "\n",
        "TensorFlow uses a dataflow graph to represent your computation in terms of the dependencies between individual operations. \n",
        "\n",
        "A computational graph is a series of TensorFlow operations arranged into a graph. The graph is composed of two types of objects:\n",
        "\n",
        "\n",
        "*   Operations (or \"ops\"): The nodes of the graph. Operations describe calculations that consume and produce tensors.\n",
        "*   Tensors: The edges in the graph. These represent the values that will flow through the graph.\n",
        "\n",
        "\\\\\n",
        "\n",
        "This leads to a low-level programming model in which you first define the dataflow graph, then create a TensorFlow session to run parts of the graph across a set of local and remote devices.\n",
        "\n",
        "Dataflow has several advantages that TensorFlow leverages when executing your programs:\n",
        "\n",
        "\n",
        "*   Parallelism\n",
        "*   Distributed execution\n",
        "*   Compilation\n",
        "*   Portability\n",
        "\n",
        "\\\\\n",
        "\n",
        "We highly recommend to read the resources from the [following link](https://www.tensorflow.org/programmers_guide/), to understand the TF architecture."
      ]
    },
    {
      "metadata": {
        "id": "bisbqZ-Q3hZ7",
        "colab_type": "text"
      },
      "cell_type": "markdown",
      "source": [
        "## Session initialization"
      ]
    },
    {
      "metadata": {
        "id": "IIXcFwtD-yz4",
        "colab_type": "text"
      },
      "cell_type": "markdown",
      "source": [
        "To evaluate tensors, instantiate a tf.Session object, informally known as a session. A session encapsulates the state of the TensorFlow runtime, and runs TensorFlow operations. If a tf.Graph is like a .py file, a tf.Session is like the python executable."
      ]
    },
    {
      "metadata": {
        "id": "6fy3Es2o2clg",
        "colab_type": "code",
        "colab": {}
      },
      "cell_type": "code",
      "source": [
        "sess = tf.InteractiveSession()"
      ],
      "execution_count": 0,
      "outputs": []
    },
    {
      "metadata": {
        "id": "I-AI50Jp32hj",
        "colab_type": "text"
      },
      "cell_type": "markdown",
      "source": [
        "## Tensor"
      ]
    },
    {
      "metadata": {
        "id": "Juuf-Ai15Utr",
        "colab_type": "text"
      },
      "cell_type": "markdown",
      "source": [
        "TensorFlow, is a framework to define and run computations involving tensors. A tensor is a generalization of vectors and matrices to potentially higher dimensions. Internally, TensorFlow represents tensors as n-dimensional arrays of base datatypes.\n",
        "\n",
        "\\\\\n",
        "\n",
        "TensorFlow programs work by first building a graph of tf.Tensor objects, detailing how each tensor is computed based on the other available tensors and then by running parts of this graph to achieve the desired results.\n",
        "\n",
        "\\\\\n",
        "\n",
        "tf.Tensor does not exist outside the context of a single session.run call."
      ]
    },
    {
      "metadata": {
        "id": "YdW3amRS-AZ_",
        "colab_type": "text"
      },
      "cell_type": "markdown",
      "source": [
        "### Initialization"
      ]
    },
    {
      "metadata": {
        "id": "AKUmh8bl31RU",
        "colab_type": "code",
        "colab": {}
      },
      "cell_type": "code",
      "source": [
        "node1 = tf.constant(3.0)\n",
        "node2 = tf.constant(4, dtype=tf.int32)\n",
        "node3 = tf.constant(0., name=\"Zero_tensor\")\n",
        "node4 = tf.constant([1., 2., 3.])\n",
        "node5 = tf.constant([[1., 2., 3.], [4., 5., 6.]])\n",
        "node6 = tf.ones([3, 3, 3])"
      ],
      "execution_count": 0,
      "outputs": []
    },
    {
      "metadata": {
        "id": "cQ1EEkjF3f4l",
        "colab_type": "code",
        "outputId": "72fc6f1d-6b40-4b8d-f84a-99fddc217bc0",
        "colab": {
          "base_uri": "https://localhost:8080/",
          "height": 442
        }
      },
      "cell_type": "code",
      "source": [
        "print(node1)\n",
        "print(type(node1))\n",
        "print()\n",
        "\n",
        "print(node2.eval())\n",
        "print(sess.run(node2))\n",
        "print()\n",
        "\n",
        "print(node3.name)\n",
        "print()\n",
        "\n",
        "print(node4.shape)\n",
        "print()\n",
        "\n",
        "print(node5.eval())\n",
        "print()\n",
        "\n",
        "print(node6)\n",
        "print(sess.run(node6))"
      ],
      "execution_count": 0,
      "outputs": [
        {
          "output_type": "stream",
          "text": [
            "Tensor(\"Const:0\", shape=(), dtype=float32)\n",
            "<class 'tensorflow.python.framework.ops.Tensor'>\n",
            "\n",
            "4\n",
            "4\n",
            "\n",
            "Zero_tensor:0\n",
            "\n",
            "(3,)\n",
            "\n",
            "[[1. 2. 3.]\n",
            " [4. 5. 6.]]\n",
            "\n",
            "Tensor(\"ones:0\", shape=(3, 3, 3), dtype=float32)\n",
            "[[[1. 1. 1.]\n",
            "  [1. 1. 1.]\n",
            "  [1. 1. 1.]]\n",
            "\n",
            " [[1. 1. 1.]\n",
            "  [1. 1. 1.]\n",
            "  [1. 1. 1.]]\n",
            "\n",
            " [[1. 1. 1.]\n",
            "  [1. 1. 1.]\n",
            "  [1. 1. 1.]]]\n"
          ],
          "name": "stdout"
        }
      ]
    },
    {
      "metadata": {
        "id": "vnQevLMq-ClJ",
        "colab_type": "text"
      },
      "cell_type": "markdown",
      "source": [
        "### Operations"
      ]
    },
    {
      "metadata": {
        "id": "WkZbo8lz2dQd",
        "colab_type": "code",
        "outputId": "7fda4938-caba-4535-8e62-37a6e966f45e",
        "colab": {
          "base_uri": "https://localhost:8080/",
          "height": 102
        }
      },
      "cell_type": "code",
      "source": [
        "x = tf.constant(2.)\n",
        "y = tf.constant(3.)\n",
        "\n",
        "add_1 = x + y\n",
        "add_2 = tf.add(x, y, name='our_add_node')\n",
        "\n",
        "print(add_1)\n",
        "print(add_1.eval())\n",
        "print()\n",
        "\n",
        "print(add_2)\n",
        "print(add_2.eval())"
      ],
      "execution_count": 0,
      "outputs": [
        {
          "output_type": "stream",
          "text": [
            "Tensor(\"add:0\", shape=(), dtype=float32)\n",
            "5.0\n",
            "\n",
            "Tensor(\"our_add_node:0\", shape=(), dtype=float32)\n",
            "5.0\n"
          ],
          "name": "stdout"
        }
      ]
    },
    {
      "metadata": {
        "id": "L4m7teEk_58o",
        "colab_type": "code",
        "outputId": "770c0e9e-f72c-424e-b4a3-ddebfa7ed1f9",
        "colab": {
          "base_uri": "https://localhost:8080/",
          "height": 51
        }
      },
      "cell_type": "code",
      "source": [
        "x = tf.constant(2.)\n",
        "y = tf.constant([3., 4., 5.])\n",
        "\n",
        "add_3 = x + y\n",
        "\n",
        "print(add_3)\n",
        "print(add_3.eval())"
      ],
      "execution_count": 0,
      "outputs": [
        {
          "output_type": "stream",
          "text": [
            "Tensor(\"add_1:0\", shape=(3,), dtype=float32)\n",
            "[5. 6. 7.]\n"
          ],
          "name": "stdout"
        }
      ]
    },
    {
      "metadata": {
        "id": "5TpYmOUEBBcn",
        "colab_type": "code",
        "outputId": "f86efd5a-9e70-4e95-b98d-f3a2a4039068",
        "colab": {
          "base_uri": "https://localhost:8080/",
          "height": 34
        }
      },
      "cell_type": "code",
      "source": [
        "xx = tf.random_normal(shape=(100, 10), name='xx')\n",
        "yy = tf.random_normal(shape=(10, 2), name='yy')\n",
        "\n",
        "xyxy = tf.matmul(xx, yy)\n",
        "\n",
        "print(xyxy)"
      ],
      "execution_count": 0,
      "outputs": [
        {
          "output_type": "stream",
          "text": [
            "Tensor(\"MatMul:0\", shape=(100, 2), dtype=float32)\n"
          ],
          "name": "stdout"
        }
      ]
    },
    {
      "metadata": {
        "id": "ApkVpalR6anH",
        "colab_type": "text"
      },
      "cell_type": "markdown",
      "source": [
        "### Tensor does not exist outside the context of a single session.run call\n",
        "\n",
        "The result shows a different random value on each call to run, but a consistent value during a single run (out1 and out2 receive the same random input):"
      ]
    },
    {
      "metadata": {
        "id": "scdKr0-Z6a-1",
        "colab_type": "code",
        "outputId": "1a25dec7-8900-4e4d-c166-f2334e7c1e45",
        "colab": {
          "base_uri": "https://localhost:8080/",
          "height": 68
        }
      },
      "cell_type": "code",
      "source": [
        "vec = tf.random_uniform(shape=(3,))\n",
        "out1 = vec + 1\n",
        "out2 = vec + 2\n",
        "\n",
        "print(sess.run(vec))\n",
        "print(sess.run(vec))\n",
        "print(sess.run((out1, out2)))"
      ],
      "execution_count": 0,
      "outputs": [
        {
          "output_type": "stream",
          "text": [
            "[0.47848082 0.4697398  0.7484194 ]\n",
            "[0.39959717 0.86899066 0.460433  ]\n",
            "(array([1.5382783, 1.3318903, 1.6821096], dtype=float32), array([2.5382783, 2.3318903, 2.6821096], dtype=float32))\n"
          ],
          "name": "stdout"
        }
      ]
    },
    {
      "metadata": {
        "id": "toETfx7lCgfj",
        "colab_type": "text"
      },
      "cell_type": "markdown",
      "source": [
        "### Placeholders"
      ]
    },
    {
      "metadata": {
        "id": "z6pIAIku-SEG",
        "colab_type": "text"
      },
      "cell_type": "markdown",
      "source": [
        "A placeholder represents an entry point for us to feed actual data values\n",
        "into tensors. It is not initialized and contains no data. A placeholder\n",
        "generates an error if it is executed without a feed."
      ]
    },
    {
      "metadata": {
        "id": "B8YIfOQriNso",
        "colab_type": "text"
      },
      "cell_type": "markdown",
      "source": [
        "#### Placeholder for a single number"
      ]
    },
    {
      "metadata": {
        "id": "lT_CVj_gCi8-",
        "colab_type": "code",
        "colab": {}
      },
      "cell_type": "code",
      "source": [
        "x = tf.placeholder(tf.float32, shape=[1,1])\n",
        "y = tf.matmul(x, x)"
      ],
      "execution_count": 0,
      "outputs": []
    },
    {
      "metadata": {
        "id": "r-sP4AaACjMw",
        "colab_type": "code",
        "colab": {}
      },
      "cell_type": "code",
      "source": [
        "\"\"\" A placeholder generates an error if it is executed without a feed \"\"\"\n",
        "print(sess.run(y))  # ERROR: will fail because x was not fed."
      ],
      "execution_count": 0,
      "outputs": []
    },
    {
      "metadata": {
        "id": "GYwBsVOyCjGb",
        "colab_type": "code",
        "outputId": "367d40fe-0d32-43c1-9fbd-4753353f5a0a",
        "colab": {
          "base_uri": "https://localhost:8080/",
          "height": 34
        }
      },
      "cell_type": "code",
      "source": [
        "number = [[3.]]\n",
        "print(sess.run(y, feed_dict={x: number}))  # Will succeed."
      ],
      "execution_count": 0,
      "outputs": [
        {
          "output_type": "stream",
          "text": [
            "[[9.]]\n"
          ],
          "name": "stdout"
        }
      ]
    },
    {
      "metadata": {
        "id": "MBlRmIFAjMRY",
        "colab_type": "text"
      },
      "cell_type": "markdown",
      "source": [
        "#### Placeholder for a tensor with undefined length"
      ]
    },
    {
      "metadata": {
        "id": "_AOiK4vTjRny",
        "colab_type": "code",
        "colab": {}
      },
      "cell_type": "code",
      "source": [
        "x = tf.placeholder(tf.float32, shape=[None, 5])\n",
        "y = x * 2"
      ],
      "execution_count": 0,
      "outputs": []
    },
    {
      "metadata": {
        "id": "ZjhaSI8TjxCH",
        "colab_type": "code",
        "outputId": "cedb27cb-c579-43f7-b696-4be2b58a3497",
        "colab": {
          "base_uri": "https://localhost:8080/",
          "height": 68
        }
      },
      "cell_type": "code",
      "source": [
        "tensor = np.ones((1, 5))\n",
        "print(tensor)\n",
        "print()\n",
        "print(sess.run(y, feed_dict={x: tensor}))"
      ],
      "execution_count": 0,
      "outputs": [
        {
          "output_type": "stream",
          "text": [
            "[[1. 1. 1. 1. 1.]]\n",
            "\n",
            "[[2. 2. 2. 2. 2.]]\n"
          ],
          "name": "stdout"
        }
      ]
    },
    {
      "metadata": {
        "id": "KjkiD-gbA_ti",
        "colab_type": "text"
      },
      "cell_type": "markdown",
      "source": [
        "#### Operations on placeholders"
      ]
    },
    {
      "metadata": {
        "id": "lWjTpu68BA1n",
        "colab_type": "code",
        "colab": {}
      },
      "cell_type": "code",
      "source": [
        "x = tf.placeholder(tf.float32, shape=[1, None])\n",
        "y = tf.placeholder(tf.float32, shape=[1, None])\n",
        "\n",
        "z_1 = x + y\n",
        "z_2 = tf.matmul(x, tf.transpose(y))"
      ],
      "execution_count": 0,
      "outputs": []
    },
    {
      "metadata": {
        "id": "3h91PyebBAta",
        "colab_type": "code",
        "outputId": "e2d20df2-e4cf-46ac-d821-f690368bce75",
        "colab": {
          "base_uri": "https://localhost:8080/",
          "height": 68
        }
      },
      "cell_type": "code",
      "source": [
        "x_tensor = [[1., 2., 3.]]\n",
        "y_tensor = [[11., 12., 13.]]\n",
        "print(sess.run(z_1, feed_dict={x: x_tensor, y: y_tensor}))\n",
        "print()\n",
        "print(sess.run(z_2, feed_dict={x: x_tensor, y: y_tensor}))"
      ],
      "execution_count": 0,
      "outputs": [
        {
          "output_type": "stream",
          "text": [
            "[[12. 14. 16.]]\n",
            "\n",
            "[[74.]]\n"
          ],
          "name": "stdout"
        }
      ]
    },
    {
      "metadata": {
        "id": "5O10bIyuBKqP",
        "colab_type": "text"
      },
      "cell_type": "markdown",
      "source": [
        "## Variable"
      ]
    },
    {
      "metadata": {
        "id": "shNMrgqb-eQa",
        "colab_type": "text"
      },
      "cell_type": "markdown",
      "source": [
        "A TensorFlow variable is the best way to represent the state manipulated\n",
        "by your program. A tf.Variable represents a tensor whose value can be\n",
        "changed by running ops on it.\n",
        "Internally, a tf.Variable stores a tensor. Specific ops allow you to read and\n",
        "modify the values of this tensor.\n",
        "\n",
        "\\\\\n",
        "\n",
        "Unlike tf.Tensor objects, a tf.Variable exists outside the context of a single session.run call."
      ]
    },
    {
      "metadata": {
        "id": "d7Vhb-JGBPrM",
        "colab_type": "code",
        "colab": {}
      },
      "cell_type": "code",
      "source": [
        "var_1 = tf.get_variable(\"var_1\", shape=[2, 3]) # default type tf.float32, default init tf.glorot_uniform_initializer\n",
        "var_2 = tf.get_variable(\"var_2\", shape=[5], initializer=tf.constant_initializer(1000.))\n",
        "var_3 = tf.get_variable(\"var_3\", shape=[3, 3, 3], initializer=tf.initializers.random_normal())\n",
        "\n",
        "var_4 = tf.Variable(tf.constant(3., shape=[1, 2]))\n",
        "var_5 = tf.Variable(tf.random_normal([2, 1]))\n",
        "var_6 = tf.Variable(tf.random_uniform([1, 1]), name=\"var_6\")"
      ],
      "execution_count": 0,
      "outputs": []
    },
    {
      "metadata": {
        "id": "c1SYbbUv4TvQ",
        "colab_type": "code",
        "colab": {}
      },
      "cell_type": "code",
      "source": [
        "\"\"\" Before you can use a variable, it must be initialized!!! \"\"\"\n",
        "print(var_1)\n",
        "print(var_1.eval()) # ERROR: will fail because variables are not initialized!"
      ],
      "execution_count": 0,
      "outputs": []
    },
    {
      "metadata": {
        "id": "ZA6mr_p_BPiB",
        "colab_type": "code",
        "colab": {}
      },
      "cell_type": "code",
      "source": [
        "\"\"\" Before you can use a variable, it must be initialized!!! \"\"\"\n",
        "sess.run(tf.global_variables_initializer())"
      ],
      "execution_count": 0,
      "outputs": []
    },
    {
      "metadata": {
        "id": "tvtfr_o53hHk",
        "colab_type": "code",
        "outputId": "a57eefb0-a1df-490b-fad4-b41a8a1cf6f0",
        "colab": {
          "base_uri": "https://localhost:8080/",
          "height": 527
        }
      },
      "cell_type": "code",
      "source": [
        "print(var_1)\n",
        "print(var_1.eval())\n",
        "print()\n",
        "\n",
        "print(var_2)\n",
        "print(var_2.eval())\n",
        "print()\n",
        "\n",
        "print(var_3)\n",
        "print(sess.run(var_3))\n",
        "print()\n",
        "\n",
        "print(var_4)\n",
        "print(sess.run(var_4))\n",
        "print()\n",
        "\n",
        "print(var_5)\n",
        "print(sess.run(var_5))\n",
        "print()\n",
        "\n",
        "print(var_6)\n",
        "print(var_6.eval())\n",
        "print()"
      ],
      "execution_count": 0,
      "outputs": [
        {
          "output_type": "stream",
          "text": [
            "<tf.Variable 'var_1:0' shape=(2, 3) dtype=float32_ref>\n",
            "[[ 0.91192436  0.52521765 -0.6441928 ]\n",
            " [-0.5105736   0.1374569   0.19900608]]\n",
            "\n",
            "<tf.Variable 'var_2:0' shape=(5,) dtype=float32_ref>\n",
            "[1000. 1000. 1000. 1000. 1000.]\n",
            "\n",
            "<tf.Variable 'var_3:0' shape=(3, 3, 3) dtype=float32_ref>\n",
            "[[[ 0.2627755  -0.06054941  0.02185258]\n",
            "  [ 0.60735047 -0.5451219   2.2236037 ]\n",
            "  [-0.6974182   0.20860969 -1.3654379 ]]\n",
            "\n",
            " [[ 1.6401439   0.61457247 -0.32907373]\n",
            "  [-1.9149839  -0.40394306  0.9122353 ]\n",
            "  [-0.6067737  -1.193024    1.9009719 ]]\n",
            "\n",
            " [[ 0.9178257   1.0318342   2.745604  ]\n",
            "  [-1.5723782   0.33048183 -0.7255065 ]\n",
            "  [-0.38500634  0.43318155 -0.71108365]]]\n",
            "\n",
            "<tf.Variable 'Variable:0' shape=(1, 2) dtype=float32_ref>\n",
            "[[3. 3.]]\n",
            "\n",
            "<tf.Variable 'Variable_1:0' shape=(2, 1) dtype=float32_ref>\n",
            "[[-0.2832159 ]\n",
            " [-0.15257019]]\n",
            "\n",
            "<tf.Variable 'var_6:0' shape=(1, 1) dtype=float32_ref>\n",
            "[[0.50664353]]\n",
            "\n"
          ],
          "name": "stdout"
        }
      ]
    },
    {
      "metadata": {
        "id": "qigzSVW-7Pqi",
        "colab_type": "text"
      },
      "cell_type": "markdown",
      "source": [
        "### Variable exists outside the context of a single session.run call"
      ]
    },
    {
      "metadata": {
        "id": "oYwt-lAf7QHo",
        "colab_type": "code",
        "outputId": "630116cc-989a-4289-f263-90168a671dfa",
        "colab": {
          "base_uri": "https://localhost:8080/",
          "height": 68
        }
      },
      "cell_type": "code",
      "source": [
        "vec = tf.get_variable(\"vec\", shape=(3,), initializer=tf.initializers.random_normal())\n",
        "sess.run(tf.global_variables_initializer())\n",
        "out1 = vec + 1\n",
        "out2 = vec + 2\n",
        "\n",
        "print(sess.run(vec))\n",
        "print(sess.run(vec))\n",
        "print(sess.run((out1, out2)))"
      ],
      "execution_count": 0,
      "outputs": [
        {
          "output_type": "stream",
          "text": [
            "[-0.14835411 -0.09595354  0.03310632]\n",
            "[-0.14835411 -0.09595354  0.03310632]\n",
            "(array([0.8516459, 0.9040465, 1.0331063], dtype=float32), array([1.851646 , 1.9040464, 2.0331063], dtype=float32))\n"
          ],
          "name": "stdout"
        }
      ]
    },
    {
      "metadata": {
        "id": "2_29uYo87Qwt",
        "colab_type": "text"
      },
      "cell_type": "markdown",
      "source": [
        "### Computing gradients"
      ]
    },
    {
      "metadata": {
        "id": "bDtQynMZ_bJa",
        "colab_type": "code",
        "colab": {}
      },
      "cell_type": "code",
      "source": [
        "var_7 = tf.matmul(var_4, var_5)"
      ],
      "execution_count": 0,
      "outputs": []
    },
    {
      "metadata": {
        "id": "IS7tYaK__SBv",
        "colab_type": "code",
        "outputId": "86350a39-ea83-4c90-d302-d96230f2a136",
        "colab": {
          "base_uri": "https://localhost:8080/",
          "height": 85
        }
      },
      "cell_type": "code",
      "source": [
        "g = tf.gradients(var_7, [var_4, var_5])\n",
        "print(g)\n",
        "print(g[0].eval())\n",
        "print(g[1].eval())"
      ],
      "execution_count": 0,
      "outputs": [
        {
          "output_type": "stream",
          "text": [
            "[<tf.Tensor 'gradients/MatMul_3_grad/MatMul:0' shape=(1, 2) dtype=float32>, <tf.Tensor 'gradients/MatMul_3_grad/MatMul_1:0' shape=(2, 1) dtype=float32>]\n",
            "[[ 0.71649265 -0.3948212 ]]\n",
            "[[3.]\n",
            " [3.]]\n"
          ],
          "name": "stdout"
        }
      ]
    },
    {
      "metadata": {
        "id": "V_eatiVgCRCX",
        "colab_type": "code",
        "outputId": "241d6c5d-415b-49e7-b83b-db7d1e7606d2",
        "colab": {
          "base_uri": "https://localhost:8080/",
          "height": 85
        }
      },
      "cell_type": "code",
      "source": [
        "x_1 = tf.constant(2., shape=[2,1])\n",
        "x_2 = tf.constant(3., shape=[1,2])\n",
        "y = tf.matmul(x_1, x_2)\n",
        "\n",
        "g = tf.gradients(y, [x_1, x_2])\n",
        "print(g)\n",
        "print(g[0].eval())\n",
        "print(g[1].eval())"
      ],
      "execution_count": 0,
      "outputs": [
        {
          "output_type": "stream",
          "text": [
            "[<tf.Tensor 'gradients_1/MatMul_4_grad/MatMul:0' shape=(2, 1) dtype=float32>, <tf.Tensor 'gradients_1/MatMul_4_grad/MatMul_1:0' shape=(1, 2) dtype=float32>]\n",
            "[[6.]\n",
            " [6.]]\n",
            "[[4. 4.]]\n"
          ],
          "name": "stdout"
        }
      ]
    },
    {
      "metadata": {
        "id": "6m-uRp4ABGsR",
        "colab_type": "text"
      },
      "cell_type": "markdown",
      "source": [
        "## Optimizers"
      ]
    },
    {
      "metadata": {
        "id": "Yf7rqwFFhv5-",
        "colab_type": "text"
      },
      "cell_type": "markdown",
      "source": [
        "In TensorFlow one can use fast, efficient gradient optimizers to minimize the given function. \\\\\n",
        "In the following example we will show how to use optimizers in TF, by minimizing x^2 function, with using of the Gradient Decent Optimizer. "
      ]
    },
    {
      "metadata": {
        "id": "NiEPD-owirIv",
        "colab_type": "text"
      },
      "cell_type": "markdown",
      "source": [
        "#### Defining the starting point x and the function y = x^2\n",
        "\n",
        "Notice, that the starting point should be initialized as a variable, not a tensor, as the optimizer have to change its value, by repeatedly subtracting the gradient of function in order to minimize y value."
      ]
    },
    {
      "metadata": {
        "id": "FkIlIp87BQlg",
        "colab_type": "code",
        "colab": {}
      },
      "cell_type": "code",
      "source": [
        "x = tf.get_variable(\"opt_x\", dtype=tf.float32, initializer=tf.constant_initializer(1000.), shape=[1, 1])\n",
        "y = tf.pow(x, [2.])"
      ],
      "execution_count": 0,
      "outputs": []
    },
    {
      "metadata": {
        "id": "xsRMKuqHjvvb",
        "colab_type": "text"
      },
      "cell_type": "markdown",
      "source": [
        "#### Defining the Gradient Descent Optimizer"
      ]
    },
    {
      "metadata": {
        "id": "xdGNRmjMBQdg",
        "colab_type": "code",
        "colab": {}
      },
      "cell_type": "code",
      "source": [
        "train_step = tf.train.GradientDescentOptimizer(0.1).minimize(y)"
      ],
      "execution_count": 0,
      "outputs": []
    },
    {
      "metadata": {
        "id": "MrgPHWVDkH9u",
        "colab_type": "text"
      },
      "cell_type": "markdown",
      "source": [
        "#### Iterate to minimize function"
      ]
    },
    {
      "metadata": {
        "id": "cg639E8fB-8Y",
        "colab_type": "code",
        "outputId": "ec520bef-fea8-4768-8f92-52f2e23889b5",
        "colab": {
          "base_uri": "https://localhost:8080/",
          "height": 391
        }
      },
      "cell_type": "code",
      "source": [
        "with tf.Session() as sess:\n",
        "  sess.run(tf.global_variables_initializer())\n",
        "  print(\"x = \", x.eval())\n",
        "  print(\"y = \", y.eval())\n",
        "  for i in range(200):\n",
        "      train_step.run()\n",
        "      if i % 10 == 0:\n",
        "        print(x.eval())"
      ],
      "execution_count": 0,
      "outputs": [
        {
          "output_type": "stream",
          "text": [
            "x =  [[1000.]]\n",
            "y =  [[1000000.06]]\n",
            "[[800.]]\n",
            "[[85.89934]]\n",
            "[[9.223371]]\n",
            "[[0.99035186]]\n",
            "[[0.10633823]]\n",
            "[[0.01141798]]\n",
            "[[0.001226]]\n",
            "[[0.00013164]]\n",
            "[[1.4134777e-05]]\n",
            "[[1.5177104e-06]]\n",
            "[[1.6296295e-07]]\n",
            "[[1.7498012e-08]]\n",
            "[[1.8788346e-09]]\n",
            "[[2.0173833e-10]]\n",
            "[[2.1661489e-11]]\n",
            "[[2.3258847e-12]]\n",
            "[[2.4973995e-13]]\n",
            "[[2.6815621e-14]]\n",
            "[[2.8793051e-15]]\n",
            "[[3.0916306e-16]]\n"
          ],
          "name": "stdout"
        }
      ]
    },
    {
      "metadata": {
        "id": "5l6ZkbE8BzLH",
        "colab_type": "code",
        "outputId": "43a8ee03-1411-4bef-a925-36e81f15dde5",
        "colab": {
          "base_uri": "https://localhost:8080/",
          "height": 336
        }
      },
      "cell_type": "code",
      "source": [
        "\"\"\" Optimizer needs variables that can be mutated in order to minimize a function! \"\"\"\n",
        "x = tf.constant(1000.)\n",
        "y = tf.pow(x, [2.])\n",
        "\n",
        "train_step = tf.train.GradientDescentOptimizer(0.1).minimize(y) # ERROR: there are no gradients provided for any variable!"
      ],
      "execution_count": 0,
      "outputs": [
        {
          "output_type": "error",
          "ename": "ValueError",
          "evalue": "ignored",
          "traceback": [
            "\u001b[0;31m---------------------------------------------------------------------------\u001b[0m",
            "\u001b[0;31mValueError\u001b[0m                                Traceback (most recent call last)",
            "\u001b[0;32m<ipython-input-35-3091d36536e0>\u001b[0m in \u001b[0;36m<module>\u001b[0;34m()\u001b[0m\n\u001b[1;32m      3\u001b[0m \u001b[0my\u001b[0m \u001b[0;34m=\u001b[0m \u001b[0mtf\u001b[0m\u001b[0;34m.\u001b[0m\u001b[0mpow\u001b[0m\u001b[0;34m(\u001b[0m\u001b[0mx\u001b[0m\u001b[0;34m,\u001b[0m \u001b[0;34m[\u001b[0m\u001b[0;36m2.\u001b[0m\u001b[0;34m]\u001b[0m\u001b[0;34m)\u001b[0m\u001b[0;34m\u001b[0m\u001b[0m\n\u001b[1;32m      4\u001b[0m \u001b[0;34m\u001b[0m\u001b[0m\n\u001b[0;32m----> 5\u001b[0;31m \u001b[0mtrain_step\u001b[0m \u001b[0;34m=\u001b[0m \u001b[0mtf\u001b[0m\u001b[0;34m.\u001b[0m\u001b[0mtrain\u001b[0m\u001b[0;34m.\u001b[0m\u001b[0mGradientDescentOptimizer\u001b[0m\u001b[0;34m(\u001b[0m\u001b[0;36m0.1\u001b[0m\u001b[0;34m)\u001b[0m\u001b[0;34m.\u001b[0m\u001b[0mminimize\u001b[0m\u001b[0;34m(\u001b[0m\u001b[0my\u001b[0m\u001b[0;34m)\u001b[0m \u001b[0;31m# ERROR: there are no gradients provided for any variable!\u001b[0m\u001b[0;34m\u001b[0m\u001b[0m\n\u001b[0m",
            "\u001b[0;32m/usr/local/lib/python3.6/dist-packages/tensorflow/python/training/optimizer.py\u001b[0m in \u001b[0;36mminimize\u001b[0;34m(self, loss, global_step, var_list, gate_gradients, aggregation_method, colocate_gradients_with_ops, name, grad_loss)\u001b[0m\n\u001b[1;32m    364\u001b[0m           \u001b[0;34m\"No gradients provided for any variable, check your graph for ops\"\u001b[0m\u001b[0;34m\u001b[0m\u001b[0m\n\u001b[1;32m    365\u001b[0m           \u001b[0;34m\" that do not support gradients, between variables %s and loss %s.\"\u001b[0m \u001b[0;34m%\u001b[0m\u001b[0;34m\u001b[0m\u001b[0m\n\u001b[0;32m--> 366\u001b[0;31m           ([str(v) for _, v in grads_and_vars], loss))\n\u001b[0m\u001b[1;32m    367\u001b[0m \u001b[0;34m\u001b[0m\u001b[0m\n\u001b[1;32m    368\u001b[0m     return self.apply_gradients(grads_and_vars, global_step=global_step,\n",
            "\u001b[0;31mValueError\u001b[0m: No gradients provided for any variable, check your graph for ops that do not support gradients, between variables [\"<tf.Variable 'var_1:0' shape=(2, 3) dtype=float32_ref>\", \"<tf.Variable 'var_2:0' shape=(5,) dtype=float32_ref>\", \"<tf.Variable 'var_3:0' shape=(3, 3, 3) dtype=float32_ref>\", \"<tf.Variable 'Variable:0' shape=(1, 2) dtype=float32_ref>\", \"<tf.Variable 'Variable_1:0' shape=(2, 1) dtype=float32_ref>\", \"<tf.Variable 'var_6:0' shape=(1, 1) dtype=float32_ref>\", \"<tf.Variable 'vec:0' shape=(3,) dtype=float32_ref>\", \"<tf.Variable 'opt_x:0' shape=(1, 1) dtype=float32_ref>\"] and loss Tensor(\"Pow_1:0\", shape=(1,), dtype=float32)."
          ]
        }
      ]
    },
    {
      "metadata": {
        "id": "gdCuaZ8izHMc",
        "colab_type": "text"
      },
      "cell_type": "markdown",
      "source": [
        "# Softmax regression for MNIST classification\n",
        "\n",
        "Example of the softmax regression applied to MNIST digits classification. "
      ]
    },
    {
      "metadata": {
        "id": "-rS9AjgddyJH",
        "colab_type": "text"
      },
      "cell_type": "markdown",
      "source": [
        "## Building the softmax architecture"
      ]
    },
    {
      "metadata": {
        "id": "88o1OpYSe_m0",
        "colab_type": "text"
      },
      "cell_type": "markdown",
      "source": [
        "#### Create placeholders for training data. \n",
        "\n",
        "Remember about a propper shape of training images (in mnist.train.images every digit is a 784D vector) and labels (In training dataset labels are in one-hot-encoding form)."
      ]
    },
    {
      "metadata": {
        "id": "aISYxnHn1gfK",
        "colab_type": "code",
        "colab": {}
      },
      "cell_type": "code",
      "source": [
        "x = tf.placeholder(tf.float32, [None, 784])\n",
        "y_labels = tf.placeholder(tf.float32, [None, 10])"
      ],
      "execution_count": 0,
      "outputs": []
    },
    {
      "metadata": {
        "id": "TJ843acDfSsw",
        "colab_type": "text"
      },
      "cell_type": "markdown",
      "source": [
        "#### Initialize weight matrix and biases vector"
      ]
    },
    {
      "metadata": {
        "id": "qghs2HpezLIq",
        "colab_type": "code",
        "colab": {}
      },
      "cell_type": "code",
      "source": [
        "W = tf.get_variable(\"softmax_W\", dtype=tf.float32, initializer=tf.initializers.truncated_normal(stddev=0.05), shape=[784, 10])\n",
        "b = tf.get_variable(\"softmax_b\", dtype=tf.float32, initializer=tf.constant_initializer(0.2), shape=[10])"
      ],
      "execution_count": 0,
      "outputs": []
    },
    {
      "metadata": {
        "id": "Gu_qgY9KgHYj",
        "colab_type": "text"
      },
      "cell_type": "markdown",
      "source": [
        "#### Define classificator\n",
        "\n",
        "Multiply input image by a weighr matrix, them add biases and apply softmax function."
      ]
    },
    {
      "metadata": {
        "id": "JB0E5g54zK_s",
        "colab_type": "code",
        "colab": {}
      },
      "cell_type": "code",
      "source": [
        "y = tf.nn.softmax(tf.matmul(x, W) + b)"
      ],
      "execution_count": 0,
      "outputs": []
    },
    {
      "metadata": {
        "id": "vFNyGJQvd6UE",
        "colab_type": "text"
      },
      "cell_type": "markdown",
      "source": [
        "## Softmax training\n",
        "\n",
        "We will now train the softmax classifier. For this purpose we have to define the loss function, cross entropy in this example and optimizer, we will use Adam."
      ]
    },
    {
      "metadata": {
        "id": "GY32Cx4seYIw",
        "colab_type": "text"
      },
      "cell_type": "markdown",
      "source": [
        "#### Define the loss function\n",
        "\n",
        "Here we define the cross entropy loss function by hand, but one should notice, that better option is to use the tf.nn.softmax_cross_entropy_with_logits_v2 function, as this is more numerically stable solution (as we are taking the log of softmax)."
      ]
    },
    {
      "metadata": {
        "id": "kiM0GFWu1l1F",
        "colab_type": "code",
        "colab": {}
      },
      "cell_type": "code",
      "source": [
        "cross_entropy = -tf.reduce_sum(y_labels * tf.log(y), reduction_indices=[1]) # tf.nn.softmax_cross_entropy_with_logits_v2(labels=y_labels, logits=y)\n",
        "cross_entropy = tf.reduce_mean(cross_entropy)"
      ],
      "execution_count": 0,
      "outputs": []
    },
    {
      "metadata": {
        "id": "W7beUJW_edAC",
        "colab_type": "text"
      },
      "cell_type": "markdown",
      "source": [
        "#### Define the optimizer "
      ]
    },
    {
      "metadata": {
        "id": "FheaU2To2Y0R",
        "colab_type": "code",
        "colab": {}
      },
      "cell_type": "code",
      "source": [
        "train_step = tf.train.GradientDescentOptimizer(0.1).minimize(cross_entropy)"
      ],
      "execution_count": 0,
      "outputs": []
    },
    {
      "metadata": {
        "id": "mcpuOTFAeh2m",
        "colab_type": "text"
      },
      "cell_type": "markdown",
      "source": [
        "#### Check whether softmax classifier returns correct predictions and calculate the accuracy"
      ]
    },
    {
      "metadata": {
        "id": "OKFShUFh2xz3",
        "colab_type": "code",
        "colab": {}
      },
      "cell_type": "code",
      "source": [
        "\"\"\" Create a vector that tells us, whether the predictions from our net - y_conv\n",
        "    are equal to the correct digit labels - y. \"\"\"\n",
        "correct_prediction = tf.equal(tf.argmax(y, 1), tf.argmax(y_labels, 1))\n",
        "correct_prediction = tf.cast(correct_prediction, tf.float32)\n",
        "\n",
        "\"\"\" Calculate the accurracy of correct predictions \"\"\"\n",
        "accuracy = tf.reduce_mean(correct_prediction)"
      ],
      "execution_count": 0,
      "outputs": []
    },
    {
      "metadata": {
        "id": "12lEKUb1en1o",
        "colab_type": "text"
      },
      "cell_type": "markdown",
      "source": [
        "#### Training the network\n",
        "\n",
        "The following code will train our network with using of our predefined SGD optimizer, based on the batch size equal to 64 and with 2000 steps."
      ]
    },
    {
      "metadata": {
        "id": "GRZpPzEr2Z2h",
        "colab_type": "code",
        "outputId": "5af184d8-9244-4e18-c1ec-fcfe78dfbc35",
        "colab": {
          "base_uri": "https://localhost:8080/",
          "height": 374
        }
      },
      "cell_type": "code",
      "source": [
        "with tf.Session() as sess:\n",
        "  sess.run(tf.global_variables_initializer())\n",
        "  for i in range(2000):\n",
        "    # Get the batch with 64 images from the MNIST training set\n",
        "    batch = mnist.train.next_batch(64)\n",
        "\n",
        "    # Fill data into placeholders and run the training step\n",
        "    train_step.run(feed_dict={x: batch[0], y_labels: batch[1]})\n",
        "\n",
        "    # Print the validation accuracy every 100 steps\n",
        "    if i % 100 == 0:\n",
        "      validation_accuracy = accuracy.eval(feed_dict={\n",
        "          x: mnist.validation.images, y_labels: mnist.validation.labels})\n",
        "      print('step: {}, validation accuracy: {}'.format(i, round(validation_accuracy, 3)))\n",
        "\n",
        "\n",
        "  # Print the test set accuracy\n",
        "  print('test accuracy: {}'.format(round(accuracy.eval(feed_dict={\n",
        "      x: mnist.test.images, y_labels: mnist.test.labels}), 3)))"
      ],
      "execution_count": 0,
      "outputs": [
        {
          "output_type": "stream",
          "text": [
            "step: 0, validation accuracy: 0.1420000046491623\n",
            "step: 100, validation accuracy: 0.8560000061988831\n",
            "step: 200, validation accuracy: 0.8790000081062317\n",
            "step: 300, validation accuracy: 0.8920000195503235\n",
            "step: 400, validation accuracy: 0.8960000276565552\n",
            "step: 500, validation accuracy: 0.8960000276565552\n",
            "step: 600, validation accuracy: 0.8999999761581421\n",
            "step: 700, validation accuracy: 0.9039999842643738\n",
            "step: 800, validation accuracy: 0.9070000052452087\n",
            "step: 900, validation accuracy: 0.9070000052452087\n",
            "step: 1000, validation accuracy: 0.9110000133514404\n",
            "step: 1100, validation accuracy: 0.9120000004768372\n",
            "step: 1200, validation accuracy: 0.9129999876022339\n",
            "step: 1300, validation accuracy: 0.9139999747276306\n",
            "step: 1400, validation accuracy: 0.9120000004768372\n",
            "step: 1500, validation accuracy: 0.9150000214576721\n",
            "step: 1600, validation accuracy: 0.9169999957084656\n",
            "step: 1700, validation accuracy: 0.9139999747276306\n",
            "step: 1800, validation accuracy: 0.9150000214576721\n",
            "step: 1900, validation accuracy: 0.9150000214576721\n",
            "test accuracy: 0.9160000085830688\n"
          ],
          "name": "stdout"
        }
      ]
    },
    {
      "metadata": {
        "id": "cOCFFgLT5_JH",
        "colab_type": "text"
      },
      "cell_type": "markdown",
      "source": [
        "# Simple Feed Forward Network for MNIST classification"
      ]
    },
    {
      "metadata": {
        "id": "eRSvm46Hdpc1",
        "colab_type": "text"
      },
      "cell_type": "markdown",
      "source": [
        "## Building the network"
      ]
    },
    {
      "metadata": {
        "id": "eNbv2gq0UQV6",
        "colab_type": "text"
      },
      "cell_type": "markdown",
      "source": [
        "Exercise:\n",
        "\n",
        "\n",
        "Create the Fully Connected Feed Forward Network for digits classification, with the following architecture:\n",
        "\n",
        "\n",
        "1.   First layer, that maps one grayscale image (of size 28x28 = 784 pixels) to 100 hidden neurons.\n",
        "2.   Second layer, that maps 100 features into another 100 hidden neurons.\n",
        "3.   Third layer, that maps 100 features into another 100 hidden neurons.\n",
        "4.   Last layer, that maps 100 features to 10 classes, one for each digit.\n",
        "\n",
        "\n",
        "In every hidden layer, we should use the ReLU activation function. Softmax should be applied on the last layer of our network.\n"
      ]
    },
    {
      "metadata": {
        "id": "xBoAGguIW5Pr",
        "colab_type": "text"
      },
      "cell_type": "markdown",
      "source": [
        "#### Create placeholders for training data. \n",
        "\n",
        "Remember about a propper shape of training images (in mnist.train.images every digit is a 784D vector) and labels (In training dataset labels are in one-hot-encoding form)."
      ]
    },
    {
      "metadata": {
        "id": "iuNLg3sG5_-Z",
        "colab_type": "code",
        "colab": {}
      },
      "cell_type": "code",
      "source": [
        "\"\"\" Create a placeholders for MNIST images and their labels \"\"\"\n",
        "x = tf.placeholder(tf.float32, [None, 784])\n",
        "y_labels = tf.placeholder(tf.float32, [None, 10])"
      ],
      "execution_count": 0,
      "outputs": []
    },
    {
      "metadata": {
        "id": "_QIoyNUoZlKk",
        "colab_type": "text"
      },
      "cell_type": "markdown",
      "source": [
        "#### Initialize weight matrices and biases for all layers of our network"
      ]
    },
    {
      "metadata": {
        "id": "me1-LMaI7lpX",
        "colab_type": "code",
        "colab": {}
      },
      "cell_type": "code",
      "source": [
        "\"\"\" Initialize weights matrix W and biases b for the first hidden layer (matrix should map 784 input features into 100 features) \"\"\"\n",
        "W_1 = tf.get_variable(\"softmax_W1\", dtype=tf.float32, initializer=tf.initializers.truncated_normal(stddev=0.05), shape=[784, 100])\n",
        "b_1 = tf.get_variable(\"softmax_b1\", dtype=tf.float32, initializer=tf.constant_initializer(0.2), shape=[100])\n",
        "\n",
        "\"\"\" Initialize weights matrix W and biases b for the second hidden layer (matrix should map 100 features into 100 features) \"\"\"\n",
        "W_2 = tf.get_variable(\"softmax_W2\", dtype=tf.float32, initializer=tf.initializers.truncated_normal(stddev=0.05), shape=[100, 100])\n",
        "b_2 = tf.get_variable(\"softmax_b2\", dtype=tf.float32, initializer=tf.constant_initializer(0.2), shape=[100])\n",
        "\n",
        "\"\"\" Initialize weights matrix W and biases b for the third hidden layer (matrix should map 100 features into 100 features) \"\"\"\n",
        "W_3 = tf.get_variable(\"softmax_W3\", dtype=tf.float32, initializer=tf.initializers.truncated_normal(stddev=0.05), shape=[100, 100])\n",
        "b_3 = tf.get_variable(\"softmax_b3\", dtype=tf.float32, initializer=tf.constant_initializer(0.2), shape=[100])\n",
        "\n",
        "\"\"\" Initialize weights matrix W and biases b for the output layer (matrix should map 100 features into 10 digits classes) \"\"\"\n",
        "W_4 = tf.get_variable(\"softmax_W4\", dtype=tf.float32, initializer=tf.initializers.truncated_normal(stddev=0.05), shape=[100, 10])\n",
        "b_4 = tf.get_variable(\"softmax_b4\", dtype=tf.float32, initializer=tf.constant_initializer(0.2), shape=[10])"
      ],
      "execution_count": 0,
      "outputs": []
    },
    {
      "metadata": {
        "id": "C6XudNN7bV6K",
        "colab_type": "text"
      },
      "cell_type": "markdown",
      "source": [
        "#### Define network operations\n",
        "\n",
        "In every hidden layer, we should use the ReLU activation function (tf.nn.relu). \\\\\n",
        "Softmax should be applied on the last layer of our network (tf.nn.softmax).\n"
      ]
    },
    {
      "metadata": {
        "id": "iGm85o9D7opg",
        "colab_type": "code",
        "colab": {}
      },
      "cell_type": "code",
      "source": [
        "\"\"\" Define output from the first layer (using W_1 and b_1) \"\"\"\n",
        "y = tf.nn.relu(tf.matmul(x, W_1) + b_1)\n",
        "\n",
        "\"\"\" Define output from the second layer (using W_2 and b_2) \"\"\"\n",
        "y =  tf.nn.relu(tf.matmul(y, W_2) + b_2)\n",
        "\n",
        "\"\"\" Define output from the third layer (using W_3 and b_3) \"\"\"\n",
        "y = tf.nn.relu(tf.matmul(y, W_3) + b_3)\n",
        "\n",
        "\"\"\" Define output from the last layer (using W_4 and b_4) --> this will give us predictions  \"\"\"\n",
        "y = tf.nn.softmax(tf.matmul(y, W_4) + b_4)"
      ],
      "execution_count": 0,
      "outputs": []
    },
    {
      "metadata": {
        "id": "FYENz7r8Wc6h",
        "colab_type": "text"
      },
      "cell_type": "markdown",
      "source": [
        "## Network training\n",
        "\n",
        "We will now try to train our network. For this purpose we have to define the loss function, cross entropy in this example and optimizer, we will use Adam."
      ]
    },
    {
      "metadata": {
        "id": "Rfdo9K7LWh1m",
        "colab_type": "text"
      },
      "cell_type": "markdown",
      "source": [
        "#### Define the loss function and optimizer\n",
        "\n",
        "This time try to use numerically stable version of softmax, given by a function 'tf.nn.softmax_cross_entropy_with_logits_v2', instead of writing it by hand"
      ]
    },
    {
      "metadata": {
        "id": "wvz7BXvu7ojG",
        "colab_type": "code",
        "colab": {}
      },
      "cell_type": "code",
      "source": [
        "\"\"\" Define the cross entropy error between true and predicted labels \"\"\"\n",
        "cross_entropy = -tf.reduce_sum(y_labels * tf.log(y), reduction_indices=[1])\n",
        "cross_entropy = tf.reduce_mean(cross_entropy)"
      ],
      "execution_count": 0,
      "outputs": []
    },
    {
      "metadata": {
        "id": "WY8FSEQ57occ",
        "colab_type": "code",
        "colab": {}
      },
      "cell_type": "code",
      "source": [
        "train_step = tf.train.AdamOptimizer(1e-3).minimize(cross_entropy)"
      ],
      "execution_count": 0,
      "outputs": []
    },
    {
      "metadata": {
        "id": "ZvuWkFfMV1CG",
        "colab_type": "text"
      },
      "cell_type": "markdown",
      "source": [
        "#### Check whether our network returns correct predictions and calculate the accuracy"
      ]
    },
    {
      "metadata": {
        "id": "_yFsTr3r7oU9",
        "colab_type": "code",
        "colab": {}
      },
      "cell_type": "code",
      "source": [
        "\"\"\" Create a vector that tells us, whether the predictions from our net - y_conv\n",
        "    are equal to the correct digit labels - y. \"\"\"\n",
        "correct_prediction = tf.equal(tf.argmax(y, 1), tf.argmax(y_labels, 1))\n",
        "correct_prediction = tf.cast(correct_prediction, tf.float32)\n",
        "\n",
        "\"\"\" Calculate the accurracy of correct predictions \"\"\"\n",
        "accuracy = tf.reduce_mean(correct_prediction)"
      ],
      "execution_count": 0,
      "outputs": []
    },
    {
      "metadata": {
        "id": "C1ATln5RWo8U",
        "colab_type": "text"
      },
      "cell_type": "markdown",
      "source": [
        "#### Training the network\n",
        "\n",
        "The following code will train our network with using of our predefined Adam optimizer, based on the batch size equal to 64 and with 5000 steps."
      ]
    },
    {
      "metadata": {
        "id": "a2np_IRo7oNh",
        "colab_type": "code",
        "outputId": "eb5299a9-95f1-491f-9d15-6c3ba91d6a7a",
        "colab": {
          "base_uri": "https://localhost:8080/",
          "height": 884
        }
      },
      "cell_type": "code",
      "source": [
        "with tf.Session() as sess:\n",
        "  sess.run(tf.global_variables_initializer())\n",
        "  for i in range(5000):\n",
        "    # Get the batch with 64 images from the MNIST training set\n",
        "    batch = mnist.train.next_batch(64)\n",
        "\n",
        "    # Fill data into placeholders\n",
        "    train_step.run(feed_dict={x: batch[0], y_labels: batch[1]})\n",
        "\n",
        "    # Print the validation accuracy every 100 steps\n",
        "    if i % 100 == 0:\n",
        "      validation_accuracy = accuracy.eval(feed_dict={\n",
        "          x: mnist.validation.images, y_labels: mnist.validation.labels})\n",
        "      print('step: {}, validation accuracy: {}'.format(i, round(validation_accuracy, 3)))\n",
        "\n",
        "\n",
        "  # Print the test set accuracy\n",
        "  print('test accuracy: {}'.format(round(accuracy.eval(feed_dict={\n",
        "      x: mnist.test.images, y_labels: mnist.test.labels}), 3)))"
      ],
      "execution_count": 0,
      "outputs": [
        {
          "output_type": "stream",
          "text": [
            "step: 0, validation accuracy: 0.13099999725818634\n",
            "step: 100, validation accuracy: 0.875\n",
            "step: 200, validation accuracy: 0.9010000228881836\n",
            "step: 300, validation accuracy: 0.9200000166893005\n",
            "step: 400, validation accuracy: 0.9269999861717224\n",
            "step: 500, validation accuracy: 0.9309999942779541\n",
            "step: 600, validation accuracy: 0.9399999976158142\n",
            "step: 700, validation accuracy: 0.9409999847412109\n",
            "step: 800, validation accuracy: 0.953000009059906\n",
            "step: 900, validation accuracy: 0.9509999752044678\n",
            "step: 1000, validation accuracy: 0.9570000171661377\n",
            "step: 1100, validation accuracy: 0.9589999914169312\n",
            "step: 1200, validation accuracy: 0.9610000252723694\n",
            "step: 1300, validation accuracy: 0.9610000252723694\n",
            "step: 1400, validation accuracy: 0.9629999995231628\n",
            "step: 1500, validation accuracy: 0.9620000123977661\n",
            "step: 1600, validation accuracy: 0.9660000205039978\n",
            "step: 1700, validation accuracy: 0.9649999737739563\n",
            "step: 1800, validation accuracy: 0.9639999866485596\n",
            "step: 1900, validation accuracy: 0.9710000157356262\n",
            "step: 2000, validation accuracy: 0.9700000286102295\n",
            "step: 2100, validation accuracy: 0.968999981880188\n",
            "step: 2200, validation accuracy: 0.9710000157356262\n",
            "step: 2300, validation accuracy: 0.9700000286102295\n",
            "step: 2400, validation accuracy: 0.9710000157356262\n",
            "step: 2500, validation accuracy: 0.9710000157356262\n",
            "step: 2600, validation accuracy: 0.9710000157356262\n",
            "step: 2700, validation accuracy: 0.9700000286102295\n",
            "step: 2800, validation accuracy: 0.9729999899864197\n",
            "step: 2900, validation accuracy: 0.972000002861023\n",
            "step: 3000, validation accuracy: 0.9760000109672546\n",
            "step: 3100, validation accuracy: 0.9750000238418579\n",
            "step: 3200, validation accuracy: 0.9739999771118164\n",
            "step: 3300, validation accuracy: 0.9769999980926514\n",
            "step: 3400, validation accuracy: 0.9760000109672546\n",
            "step: 3500, validation accuracy: 0.9729999899864197\n",
            "step: 3600, validation accuracy: 0.9750000238418579\n",
            "step: 3700, validation accuracy: 0.9760000109672546\n",
            "step: 3800, validation accuracy: 0.9769999980926514\n",
            "step: 3900, validation accuracy: 0.9750000238418579\n",
            "step: 4000, validation accuracy: 0.9760000109672546\n",
            "step: 4100, validation accuracy: 0.968999981880188\n",
            "step: 4200, validation accuracy: 0.9729999899864197\n",
            "step: 4300, validation accuracy: 0.9760000109672546\n",
            "step: 4400, validation accuracy: 0.9750000238418579\n",
            "step: 4500, validation accuracy: 0.9760000109672546\n",
            "step: 4600, validation accuracy: 0.9779999852180481\n",
            "step: 4700, validation accuracy: 0.9779999852180481\n",
            "step: 4800, validation accuracy: 0.9729999899864197\n",
            "step: 4900, validation accuracy: 0.9769999980926514\n",
            "test accuracy: 0.9700000286102295\n"
          ],
          "name": "stdout"
        }
      ]
    },
    {
      "metadata": {
        "id": "o4958-YRqSI-",
        "colab_type": "text"
      },
      "cell_type": "markdown",
      "source": [
        "# Convolutional Neural Network for MNIST classification"
      ]
    },
    {
      "metadata": {
        "id": "XeJkuR15VDj_",
        "colab_type": "text"
      },
      "cell_type": "markdown",
      "source": [
        "## Building the network"
      ]
    },
    {
      "metadata": {
        "id": "reHRRPUHk7FV",
        "colab_type": "text"
      },
      "cell_type": "markdown",
      "source": [
        "Exercise:\n",
        "\n",
        "Create the CNN for digits classification, with the following architecture:\n",
        "\n",
        "\n",
        "1.   First convolutional layer, that maps one grayscale image to 32 feature maps.\n",
        "2.   Second convolutional layer, that maps 32 feature maps to 64 feature maps.\n",
        "3.   Fully connected layer 1, that maps our 64 feature maps into one layer, with 1024 features.\n",
        "4.   Fully connected layer 2, that maps the 1024 features to 10 classes, one for each digit\n",
        "\n",
        "Use filters with width and height equal to 5.\n"
      ]
    },
    {
      "metadata": {
        "id": "zvfwSRadongm",
        "colab_type": "text"
      },
      "cell_type": "markdown",
      "source": [
        "#### At the beggining we have to create some auxiliary functions."
      ]
    },
    {
      "metadata": {
        "id": "atNG8IgVo5B9",
        "colab_type": "code",
        "colab": {}
      },
      "cell_type": "code",
      "source": [
        "def get_weight_variable(shape):\n",
        "  \"\"\"\n",
        "  Write a function, that will return the tf.Variable of specified shape, with\n",
        "  coefficients initialized by random, sampled from a normal distribution with\n",
        "  mean = 0 and sd = 0.02\n",
        "  \"\"\"\n",
        "  init = tf.random_normal(shape, stddev=0.05)\n",
        "  return tf.Variable(init)\n",
        "\n",
        "\n",
        "\n",
        "def conv2d(x, W):\n",
        "  \"\"\"\n",
        "  Write a function, that will return the result of a convolution between\n",
        "  a tensor x and a weight vector W. We recommend using strides equal to 1\n",
        "  in every direction and use SAME padding.\n",
        "  \"\"\"\n",
        "  return tf.nn.conv2d(x, W, strides=[1, 1, 1, 1], padding='SAME')\n",
        "\n",
        "\n",
        "\n",
        "def max_pool_2x2(x):\n",
        "  \"\"\"\n",
        "  Write a function, that will return the result of max pooling operation done\n",
        "  on a tensor x, that will reduce the size of inner image. \n",
        "  The length and width of a pooling layer window should be equal to 2.\n",
        "  \"\"\"\n",
        "  return tf.nn.max_pool(x, ksize=[1, 2, 2, 1], \n",
        "                        strides=[1, 2, 2, 1], padding='SAME')"
      ],
      "execution_count": 0,
      "outputs": []
    },
    {
      "metadata": {
        "id": "1LJASUEUUZK1",
        "colab_type": "text"
      },
      "cell_type": "markdown",
      "source": [
        "#### Create placeholders for training data.\n",
        "\n",
        "Remember about a propper shape of training images (in mnist.train.images every digit is a 784D vector) and labels (In training dataset labels are in one-hot-encoding form)."
      ]
    },
    {
      "metadata": {
        "id": "z6ItZS1rpCOe",
        "colab_type": "code",
        "colab": {}
      },
      "cell_type": "code",
      "source": [
        "x = tf.placeholder(tf.float32, [None, 784])\n",
        "y_l = tf.placeholder(tf.float32, [None, 10])"
      ],
      "execution_count": 0,
      "outputs": []
    },
    {
      "metadata": {
        "id": "eEBF4aHIXxxa",
        "colab_type": "text"
      },
      "cell_type": "markdown",
      "source": [
        "#### Reshape the x vector into a rank 4 tensor with shapes: [batch_size, rows, columnss, colors/filters]. Keep in mind, that we should have 28x28 image, with only one color (as the image is in grayscale) and that batch size will be given later."
      ]
    },
    {
      "metadata": {
        "id": "LCVImfFordmU",
        "colab_type": "code",
        "colab": {}
      },
      "cell_type": "code",
      "source": [
        "x_image = tf.reshape(x, [-1, 28, 28, 1]) # [b_size, rows, cols, colors/filters]"
      ],
      "execution_count": 0,
      "outputs": []
    },
    {
      "metadata": {
        "id": "yy-6MB2rkMMb",
        "colab_type": "text"
      },
      "cell_type": "markdown",
      "source": [
        "#### Create first convolutional layer, that will map one grayscale image into 32 feature maps. To do so, we will use 32 convolutional filters with sizes 5x5x1."
      ]
    },
    {
      "metadata": {
        "id": "HmWTYyK3rdhv",
        "colab_type": "code",
        "colab": {}
      },
      "cell_type": "code",
      "source": [
        "\"\"\" Initialize weights matrix W \"\"\"\n",
        "W_conv1 = get_weight_variable([5, 5, 1, 32]) # 32 filters with size 5x5x1\n",
        "\n",
        "\"\"\" Initialize biases vector \"\"\"\n",
        "b_conv1 = get_weight_variable([32])"
      ],
      "execution_count": 0,
      "outputs": []
    },
    {
      "metadata": {
        "id": "WoG5Q-Syrdcl",
        "colab_type": "code",
        "colab": {}
      },
      "cell_type": "code",
      "source": [
        "\"\"\" Apply convolution operation between image and weights, then add bias and apply relu function \"\"\"\n",
        "y = tf.nn.relu(conv2d(x_image, W_conv1) + b_conv1) # [batch_size, 28, 28, 32]\n",
        "\n",
        "\"\"\" Apply max pooling operation on h_conv1 \"\"\"\n",
        "y = max_pool_2x2(y) # [batch_size, 14, 14, 32]"
      ],
      "execution_count": 0,
      "outputs": []
    },
    {
      "metadata": {
        "id": "3AKLlmbVxXpj",
        "colab_type": "text"
      },
      "cell_type": "markdown",
      "source": [
        "#### Create second convolutional layer, that will map resulted 32 feature maps into 64 features maps. To do so, we will use 64 convolutional filters with sizes 5x5x32."
      ]
    },
    {
      "metadata": {
        "id": "BBxMYoFVrdWb",
        "colab_type": "code",
        "colab": {}
      },
      "cell_type": "code",
      "source": [
        "\"\"\" Initialize weights matrix W \"\"\"\n",
        "W_conv2 =get_weight_variable([5, 5, 32, 64]) ### 64 filters with size 5x5x32\n",
        "\n",
        "\"\"\" Initialize biases vector b \"\"\"\n",
        "b_conv2 = get_weight_variable([64]) ###"
      ],
      "execution_count": 0,
      "outputs": []
    },
    {
      "metadata": {
        "id": "C2yd_IGaxlgj",
        "colab_type": "code",
        "colab": {}
      },
      "cell_type": "code",
      "source": [
        "\"\"\" Apply convolution operation between image and weights, then add bias and apply relu function \"\"\"\n",
        "y = tf.nn.relu(conv2d(y, W_conv2) + b_conv2) ### \n",
        "\n",
        "\"\"\" Apply max pooling operation on h_conv1 \"\"\"\n",
        "y = max_pool_2x2(y) ### [batch_size, 7, 7, 64]"
      ],
      "execution_count": 0,
      "outputs": []
    },
    {
      "metadata": {
        "id": "A7qHA40KyOaD",
        "colab_type": "text"
      },
      "cell_type": "markdown",
      "source": [
        "#### Create first fully connected layer -- after 2 rounds of downsampling, our 28x28 image is down to 7x7x64 feature maps -- now map this to 1024 features, with using of fully connected layer, with ReLU activation function and dropout."
      ]
    },
    {
      "metadata": {
        "id": "Wht3fwJxyPB6",
        "colab_type": "code",
        "colab": {}
      },
      "cell_type": "code",
      "source": [
        "\"\"\" Initialize weights matrix W, which maps 7x7x64 feature maps into one layer with 1024 features \"\"\"\n",
        "W_fc1 = get_weight_variable([7, 7, 64, 1024])\n",
        "\n",
        "\"\"\" Initialize biases vector b \"\"\"\n",
        "b_fc1 = get_weight_variable([1024])\n",
        "\n",
        "\"\"\" Reshape the result from the last convolutional layer from [batch_size, 7, 7, 64] to [batch_size, 7*7*64],\n",
        "    as this is the shape that is expected by the weight matrix W_fc1. \"\"\"\n",
        "y_flat = tf.reshape(y, [-1,1])"
      ],
      "execution_count": 0,
      "outputs": []
    },
    {
      "metadata": {
        "id": "43QWuAELTEin",
        "colab_type": "code",
        "colab": {}
      },
      "cell_type": "code",
      "source": [
        "\"\"\" Apply matrix multiplication between image and weights, then add bias and apply relu function \"\"\"\n",
        "h_fc1 = ###"
      ],
      "execution_count": 0,
      "outputs": []
    },
    {
      "metadata": {
        "id": "LjM4vDnVUJYx",
        "colab_type": "code",
        "colab": {}
      },
      "cell_type": "code",
      "source": [
        "\"\"\" Create placeholder for the dropout probability \"\"\"\n",
        "keep_prob = tf.placeholder(tf.float32)\n",
        "\n",
        "\"\"\" Apply dropout with probability = keep_prob \"\"\"\n",
        "h_fc1_drop = tf.nn.dropout(h_fc1, keep_prob)"
      ],
      "execution_count": 0,
      "outputs": []
    },
    {
      "metadata": {
        "id": "5pwl8o9EU_PS",
        "colab_type": "text"
      },
      "cell_type": "markdown",
      "source": [
        "#### Create the second convolutional layer, that maps 1024 features from the last layer into 10 classes, one for each digit."
      ]
    },
    {
      "metadata": {
        "id": "TQhjbZ6bWcmH",
        "colab_type": "text"
      },
      "cell_type": "markdown",
      "source": [
        "The softmax function applied on the result of this layer *y_conv* will give us the probabilities for every class that our convolutional neural network gives for the given image. Although we won't use this function at the moment, as this could be numerically unstable. We will handle this problem during the training step. At the moment we want to keep only logits."
      ]
    },
    {
      "metadata": {
        "id": "N87axhCtU-s8",
        "colab_type": "code",
        "colab": {}
      },
      "cell_type": "code",
      "source": [
        "\"\"\" Initialize weights matrix W, which maps 1024 features into one layer with 10 features \"\"\"\n",
        "W_fc2 = ###\n",
        "\n",
        "\"\"\" Initialize biases vector b \"\"\"\n",
        "b_fc2 = ###"
      ],
      "execution_count": 0,
      "outputs": []
    },
    {
      "metadata": {
        "id": "hE4BywxYVrKf",
        "colab_type": "code",
        "colab": {}
      },
      "cell_type": "code",
      "source": [
        "\"\"\" Apply matrix multiplication between image and weights, then add bias to get logits \"\"\"\n",
        "y_conv = ###"
      ],
      "execution_count": 0,
      "outputs": []
    },
    {
      "metadata": {
        "id": "OzkjDw7wXil8",
        "colab_type": "text"
      },
      "cell_type": "markdown",
      "source": [
        "## Network training"
      ]
    },
    {
      "metadata": {
        "id": "j80E1kqQXtqT",
        "colab_type": "text"
      },
      "cell_type": "markdown",
      "source": [
        "We will now try to train our network. For this purpose we have to define the loss function, cross entropy in this example and optimizer, we will use Adam."
      ]
    },
    {
      "metadata": {
        "id": "RyuwoGqXYWgN",
        "colab_type": "text"
      },
      "cell_type": "markdown",
      "source": [
        "#### Define the loss function and optimizer"
      ]
    },
    {
      "metadata": {
        "id": "wqpeZX68Xovk",
        "colab_type": "code",
        "colab": {}
      },
      "cell_type": "code",
      "source": [
        "\"\"\" Define the cross entropy loss function\n",
        "    Remember that in the return from our network - 'y_conv', we didn't use the softmax function to overcome problems\n",
        "    with numerical stability, that's why we should use now the function named softmax_cross_entropy_with_logits_v2, that\n",
        "    is more numerical stable. \"\"\"\n",
        "cross_entropy = ###\n",
        "cross_entropy = tf.reduce_mean(cross_entropy)"
      ],
      "execution_count": 0,
      "outputs": []
    },
    {
      "metadata": {
        "id": "hlqJyw1oYl8C",
        "colab_type": "code",
        "colab": {}
      },
      "cell_type": "code",
      "source": [
        "\"\"\" Define the Adam optimizer with parameter equal to 1e-3, that will minimize our cross_entropy loss function \"\"\"\n",
        "train_step = tf.train.AdamOptimizer(1e-3).minimize(cross_entropy)"
      ],
      "execution_count": 0,
      "outputs": []
    },
    {
      "metadata": {
        "id": "YIjNNYacZ9Qv",
        "colab_type": "text"
      },
      "cell_type": "markdown",
      "source": [
        "#### Check whether our network returns correct predictions and calculate the accuracy"
      ]
    },
    {
      "metadata": {
        "id": "cDdVlV8IZ9bo",
        "colab_type": "code",
        "colab": {}
      },
      "cell_type": "code",
      "source": [
        "\"\"\" Create a vector that tells us, whether the predictions from our net - y_conv\n",
        "    are equal to the correct digit labels - y. \"\"\"\n",
        "correct_prediction = tf.equal(tf.argmax(y_conv, 1), tf.argmax(y, 1))\n",
        "correct_prediction = tf.cast(correct_prediction, tf.float32)\n",
        "\n",
        "\"\"\" Calculate the accurracy of correct predictions \"\"\"\n",
        "accuracy = tf.reduce_mean(correct_prediction)"
      ],
      "execution_count": 0,
      "outputs": []
    },
    {
      "metadata": {
        "id": "X_yDuzfqcfRk",
        "colab_type": "text"
      },
      "cell_type": "markdown",
      "source": [
        "#### Training the network"
      ]
    },
    {
      "metadata": {
        "id": "MOjWtD2Scm8R",
        "colab_type": "text"
      },
      "cell_type": "markdown",
      "source": [
        "The following code will train our network with using of our predefined Adam optimizer, based on the batch size equal to 64 and with 5000 steps."
      ]
    },
    {
      "metadata": {
        "id": "R-bYBrMduNjf",
        "colab_type": "code",
        "colab": {}
      },
      "cell_type": "code",
      "source": [
        "with tf.Session() as sess:\n",
        "  sess.run(tf.global_variables_initializer())\n",
        "  for i in range(5000):\n",
        "    # Get the batch with 64 images from the MNIST training set\n",
        "    batch = mnist.train.next_batch(64)\n",
        "    \n",
        "    # Fill data into placeholders\n",
        "    train_step.run(feed_dict={x: batch[0], y: batch[1], keep_prob: 0.5})\n",
        "    \n",
        "    # Print the validation accuracy every 100 steps\n",
        "    if i % 100 == 0:\n",
        "      validation_accuracy = accuracy.eval(feed_dict={\n",
        "          x: mnist.validation.images, y: mnist.validation.labels, keep_prob: 1.0})\n",
        "      print('step: {}, validation accuracy: {}'.format(i, round(validation_accuracy,3)))\n",
        "    \n",
        "\n",
        "  # Print the test set accuracy\n",
        "  print('test accuracy: {}'.format(round(accuracy.eval(feed_dict={\n",
        "      x: mnist.test.images, y: mnist.test.labels, keep_prob: 1.0}),3)))"
      ],
      "execution_count": 0,
      "outputs": []
    },
    {
      "metadata": {
        "id": "4pjAjNbUbWfF",
        "colab_type": "code",
        "colab": {}
      },
      "cell_type": "code",
      "source": [
        ""
      ],
      "execution_count": 0,
      "outputs": []
    }
  ]
}